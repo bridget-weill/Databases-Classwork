{
 "cells": [
  {
   "cell_type": "markdown",
   "metadata": {},
   "source": [
    "# Movies Tonight Part 5 (optional & experimental)"
   ]
  },
  {
   "cell_type": "markdown",
   "metadata": {},
   "source": [
    "__This tutorial demonstrates various techniques to extract and merge data from the Movies Tonight database and the [IMDB API](https://www.theimdbapi.org). Unlike the previous parts, there is nothing to do except study the code. Run the cells one at a time to see how they work.__"
   ]
  },
  {
   "cell_type": "markdown",
   "metadata": {},
   "source": [
    "## Using Pandas's Built-in SQL Alchemy Support "
   ]
  },
  {
   "cell_type": "code",
   "execution_count": 1,
   "metadata": {
    "collapsed": true
   },
   "outputs": [],
   "source": [
    "import pandas as pd\n",
    "\n",
    "# initialize a Pandas database connection engine \n",
    "from sqlalchemy import create_engine\n",
    "engine = create_engine(\"sqlite:///Movies1.db\")"
   ]
  },
  {
   "cell_type": "markdown",
   "metadata": {},
   "source": [
    "**1. Loading each table as a separate DataFrame.** This cell uses the Pandas [read_sql_table() function](https://pandas.pydata.org/pandas-docs/stable/io.html#sql-queries) to load each table as a DataFrame. Name each DataFrame to match the table name in the database (e.g., `movies` for the `MOVIES` table). You will need to specify the `index_col`"
   ]
  },
  {
   "cell_type": "code",
   "execution_count": 6,
   "metadata": {
    "collapsed": true
   },
   "outputs": [],
   "source": [
    "# Note: SQL Alchemy is case sensitive; the TABLE and Column names have to match exactly \n",
    "\n",
    "artists = pd.read_sql_table('ARTISTS',engine,index_col='ARTISTID') # index_col is needed to indicate the primary key column\n",
    "credits = pd.read_sql_table('CREDITS',engine,index_col='CREDITID')\n",
    "movies = pd.read_sql_table('MOVIES',engine,index_col='MOVIEID')\n",
    "theaters = pd.read_sql_table('THEATERS',engine,index_col='THEATERID')\n",
    "# shows = pd.read_sql_table('SHOWS',engine,index_col='SHOWID')"
   ]
  },
  {
   "cell_type": "markdown",
   "metadata": {},
   "source": [
    "**2. A trial join of the movies, shows, and theaters DataFrames.** Uses [Pandas DataFrame's `join()` method](https://pandas.pydata.org/pandas-docs/stable/generated/pandas.DataFrame.join.html) to create a new DataFrame named `movie_shows`. "
   ]
  },
  {
   "cell_type": "code",
   "execution_count": 9,
   "metadata": {},
   "outputs": [
    {
     "data": {
      "text/html": [
       "<div>\n",
       "<style scoped>\n",
       "    .dataframe tbody tr th:only-of-type {\n",
       "        vertical-align: middle;\n",
       "    }\n",
       "\n",
       "    .dataframe tbody tr th {\n",
       "        vertical-align: top;\n",
       "    }\n",
       "\n",
       "    .dataframe thead th {\n",
       "        text-align: right;\n",
       "    }\n",
       "</style>\n",
       "<table border=\"1\" class=\"dataframe\">\n",
       "  <thead>\n",
       "    <tr style=\"text-align: right;\">\n",
       "      <th></th>\n",
       "      <th>CCODE</th>\n",
       "      <th>MOVIEID</th>\n",
       "      <th>ARTISTID</th>\n",
       "      <th>TITLE</th>\n",
       "      <th>RATING</th>\n",
       "    </tr>\n",
       "    <tr>\n",
       "      <th>CREDITID</th>\n",
       "      <th></th>\n",
       "      <th></th>\n",
       "      <th></th>\n",
       "      <th></th>\n",
       "      <th></th>\n",
       "    </tr>\n",
       "  </thead>\n",
       "  <tbody>\n",
       "    <tr>\n",
       "      <th>1</th>\n",
       "      <td>A</td>\n",
       "      <td>1</td>\n",
       "      <td>1</td>\n",
       "      <td>Associate, The</td>\n",
       "      <td>PG-13</td>\n",
       "    </tr>\n",
       "    <tr>\n",
       "      <th>2</th>\n",
       "      <td>A</td>\n",
       "      <td>1</td>\n",
       "      <td>2</td>\n",
       "      <td>Associate, The</td>\n",
       "      <td>PG-13</td>\n",
       "    </tr>\n",
       "    <tr>\n",
       "      <th>3</th>\n",
       "      <td>A</td>\n",
       "      <td>1</td>\n",
       "      <td>3</td>\n",
       "      <td>Associate, The</td>\n",
       "      <td>PG-13</td>\n",
       "    </tr>\n",
       "    <tr>\n",
       "      <th>4</th>\n",
       "      <td>A</td>\n",
       "      <td>1</td>\n",
       "      <td>4</td>\n",
       "      <td>Associate, The</td>\n",
       "      <td>PG-13</td>\n",
       "    </tr>\n",
       "    <tr>\n",
       "      <th>5</th>\n",
       "      <td>A</td>\n",
       "      <td>1</td>\n",
       "      <td>5</td>\n",
       "      <td>Associate, The</td>\n",
       "      <td>PG-13</td>\n",
       "    </tr>\n",
       "    <tr>\n",
       "      <th>...</th>\n",
       "      <td>...</td>\n",
       "      <td>...</td>\n",
       "      <td>...</td>\n",
       "      <td>...</td>\n",
       "      <td>...</td>\n",
       "    </tr>\n",
       "    <tr>\n",
       "      <th>158</th>\n",
       "      <td>A</td>\n",
       "      <td>23</td>\n",
       "      <td>149</td>\n",
       "      <td>That Thing You Do</td>\n",
       "      <td>PG</td>\n",
       "    </tr>\n",
       "    <tr>\n",
       "      <th>159</th>\n",
       "      <td>A</td>\n",
       "      <td>23</td>\n",
       "      <td>150</td>\n",
       "      <td>That Thing You Do</td>\n",
       "      <td>PG</td>\n",
       "    </tr>\n",
       "    <tr>\n",
       "      <th>160</th>\n",
       "      <td>A</td>\n",
       "      <td>23</td>\n",
       "      <td>151</td>\n",
       "      <td>That Thing You Do</td>\n",
       "      <td>PG</td>\n",
       "    </tr>\n",
       "    <tr>\n",
       "      <th>161</th>\n",
       "      <td>A</td>\n",
       "      <td>23</td>\n",
       "      <td>152</td>\n",
       "      <td>That Thing You Do</td>\n",
       "      <td>PG</td>\n",
       "    </tr>\n",
       "    <tr>\n",
       "      <th>162</th>\n",
       "      <td>D</td>\n",
       "      <td>23</td>\n",
       "      <td>153</td>\n",
       "      <td>That Thing You Do</td>\n",
       "      <td>PG</td>\n",
       "    </tr>\n",
       "  </tbody>\n",
       "</table>\n",
       "<p>162 rows × 5 columns</p>\n",
       "</div>"
      ],
      "text/plain": [
       "         CCODE  MOVIEID  ARTISTID              TITLE RATING\n",
       "CREDITID                                                   \n",
       "1            A        1         1     Associate, The  PG-13\n",
       "2            A        1         2     Associate, The  PG-13\n",
       "3            A        1         3     Associate, The  PG-13\n",
       "4            A        1         4     Associate, The  PG-13\n",
       "5            A        1         5     Associate, The  PG-13\n",
       "...        ...      ...       ...                ...    ...\n",
       "158          A       23       149  That Thing You Do     PG\n",
       "159          A       23       150  That Thing You Do     PG\n",
       "160          A       23       151  That Thing You Do     PG\n",
       "161          A       23       152  That Thing You Do     PG\n",
       "162          D       23       153  That Thing You Do     PG\n",
       "\n",
       "[162 rows x 5 columns]"
      ]
     },
     "execution_count": 9,
     "metadata": {},
     "output_type": "execute_result"
    }
   ],
   "source": [
    "# Note: Joins must always be from the FK (e.g., SHOWS.MID) to the PK (e.g., MOVIES.ID)\n",
    "# We can chain joins, just like SQL. Below is a chained (shows --> movies --> theaters) join.\n",
    "\n",
    "movie_shows = credits.join(movies,on='MOVIEID')\n",
    "movie_shows"
   ]
  },
  {
   "cell_type": "markdown",
   "metadata": {},
   "source": [
    "## Using Embedded SQL with %sql Magic "
   ]
  },
  {
   "cell_type": "code",
   "execution_count": 11,
   "metadata": {},
   "outputs": [
    {
     "name": "stdout",
     "output_type": "stream",
     "text": [
      "The sql extension is already loaded. To reload it, use:\n",
      "  %reload_ext sql\n"
     ]
    },
    {
     "data": {
      "text/plain": [
       "'Connected: @Movies1.db'"
      ]
     },
     "execution_count": 11,
     "metadata": {},
     "output_type": "execute_result"
    }
   ],
   "source": [
    "# standard imports for %sql magic\n",
    "%load_ext sql\n",
    "\n",
    "# initialize a %sql database connection; may have to adjust username and password \n",
    "%sql sqlite:///Movies1.db"
   ]
  },
  {
   "cell_type": "markdown",
   "metadata": {},
   "source": [
    "**3. Another (movie --> show --> theater) join, this time using a one-line embedded `%sql` statement.** The %sql magic lbrary uses its own `ResultSet` data type for the results. Fortunately, `ResultSet` has a `DataFrame()` method to convert to a DataFrame.  "
   ]
  },
  {
   "cell_type": "code",
   "execution_count": 12,
   "metadata": {},
   "outputs": [
    {
     "name": "stdout",
     "output_type": "stream",
     "text": [
      " * sqlite:///Movies1.db\n",
      "(sqlite3.OperationalError) no such column: MOVIES.ID\n",
      "[SQL: SELECT * FROM MOVIES JOIN SHOWS ON (MOVIES.ID=SHOWS.MID) JOIN THEATERS ON (SHOWS.TID=THEATERS.ID)]\n",
      "(Background on this error at: http://sqlalche.me/e/e3q8)\n"
     ]
    },
    {
     "ename": "AttributeError",
     "evalue": "'NoneType' object has no attribute 'DataFrame'",
     "output_type": "error",
     "traceback": [
      "\u001b[0;31m---------------------------------------------------------------------------\u001b[0m",
      "\u001b[0;31mAttributeError\u001b[0m                            Traceback (most recent call last)",
      "\u001b[0;32m<ipython-input-12-e9dfa2efd568>\u001b[0m in \u001b[0;36m<module>\u001b[0;34m\u001b[0m\n\u001b[1;32m      2\u001b[0m \u001b[0mmovie_shows_rs\u001b[0m \u001b[0;34m=\u001b[0m \u001b[0mget_ipython\u001b[0m\u001b[0;34m(\u001b[0m\u001b[0;34m)\u001b[0m\u001b[0;34m.\u001b[0m\u001b[0mrun_line_magic\u001b[0m\u001b[0;34m(\u001b[0m\u001b[0;34m'sql'\u001b[0m\u001b[0;34m,\u001b[0m \u001b[0;34m'SELECT * FROM MOVIES JOIN SHOWS ON (MOVIES.ID=SHOWS.MID) JOIN THEATERS ON (SHOWS.TID=THEATERS.ID)'\u001b[0m\u001b[0;34m)\u001b[0m\u001b[0;34m\u001b[0m\u001b[0;34m\u001b[0m\u001b[0m\n\u001b[1;32m      3\u001b[0m \u001b[0;31m# Then a conversion to a DataFrame\u001b[0m\u001b[0;34m\u001b[0m\u001b[0;34m\u001b[0m\u001b[0;34m\u001b[0m\u001b[0m\n\u001b[0;32m----> 4\u001b[0;31m \u001b[0mmovie_shows_df\u001b[0m \u001b[0;34m=\u001b[0m \u001b[0mmovie_shows_rs\u001b[0m\u001b[0;34m.\u001b[0m\u001b[0mDataFrame\u001b[0m\u001b[0;34m(\u001b[0m\u001b[0;34m)\u001b[0m\u001b[0;34m\u001b[0m\u001b[0;34m\u001b[0m\u001b[0m\n\u001b[0m\u001b[1;32m      5\u001b[0m \u001b[0mmovie_shows_df\u001b[0m\u001b[0;34m\u001b[0m\u001b[0;34m\u001b[0m\u001b[0m\n",
      "\u001b[0;31mAttributeError\u001b[0m: 'NoneType' object has no attribute 'DataFrame'"
     ]
    }
   ],
   "source": [
    "# A one-line %sql call\n",
    "movie_shows_rs = %sql SELECT * FROM MOVIES JOIN SHOWS ON (MOVIES.ID=SHOWS.MID) JOIN THEATERS ON (SHOWS.TID=THEATERS.ID)\n",
    "# Then a conversion to a DataFrame\n",
    "movie_shows_df = movie_shows_rs.DataFrame()\n",
    "movie_shows_df"
   ]
  },
  {
   "cell_type": "markdown",
   "metadata": {},
   "source": [
    "**4. The (movie --> show --> theater) join again, this time using a multi-line `%%sql` statement.** Note that we are using `%%sql` syntax to indicate that the query is on multiple lines. Since the cell is SQL and *not* Python, we can't assign the result directly to a Python variable. We'll use a neat Jupyter trick below. "
   ]
  },
  {
   "cell_type": "code",
   "execution_count": null,
   "metadata": {},
   "outputs": [],
   "source": [
    "%%sql\n",
    "SELECT * \n",
    "FROM MOVIES \n",
    "    JOIN SHOWS ON (MOVIES.ID=SHOWS.MID) \n",
    "    JOIN THEATERS ON (SHOWS.TID=THEATERS.ID) "
   ]
  },
  {
   "cell_type": "markdown",
   "metadata": {},
   "source": [
    "**Now for the trick.** Jupyter store the results of the previous code cell in a special variable called `_` (underscore). We can then use that to create our DataFrame. "
   ]
  },
  {
   "cell_type": "code",
   "execution_count": null,
   "metadata": {},
   "outputs": [],
   "source": [
    "movie_shows_rs = _\n",
    "movie_shows_df = movie_shows_rs.DataFrame()\n",
    "movie_shows_df"
   ]
  },
  {
   "cell_type": "markdown",
   "metadata": {},
   "source": [
    "## Using a RESTful API to Connect to a Remote Data Source"
   ]
  },
  {
   "cell_type": "markdown",
   "metadata": {},
   "source": [
    "**5. A custom utility module to retrieve data from IMDB.** Inside this folder is the file `myimdbapiutl.py`. Open it in a text editor. The `imdb_import_movie()` function can retrieve IMDB data for any movie that is likely to appear in our database. We just have to know the (title, year) or imdb_id of the movie. Notice how the function is documented with a docstring and uses Python's exception handling to raise errors. "
   ]
  },
  {
   "cell_type": "code",
   "execution_count": null,
   "metadata": {
    "collapsed": true
   },
   "outputs": [],
   "source": [
    "from myimdbapiutil import imdb_import_movie"
   ]
  },
  {
   "cell_type": "markdown",
   "metadata": {},
   "source": [
    "**6. A few example calls.** The cells below call the `imdb_import_movie()` function for the movie 'Big Night' and display some of the output."
   ]
  },
  {
   "cell_type": "code",
   "execution_count": null,
   "metadata": {},
   "outputs": [],
   "source": [
    "# Called with the movie title and the year\n",
    "big_night = imdb_import_movie(mtitle='Big Night',year=1996)\n",
    "\n",
    "# Show the movie data\n",
    "big_night['movie'].transpose() # turned side-ways so we can read it better."
   ]
  },
  {
   "cell_type": "code",
   "execution_count": null,
   "metadata": {},
   "outputs": [],
   "source": [
    "# Called with just the movie title (and without the year)\n",
    "big_night = imdb_import_movie(mtitle='Big Night')\n",
    "\n",
    "# Show the cast \n",
    "big_night['cast']"
   ]
  },
  {
   "cell_type": "code",
   "execution_count": null,
   "metadata": {},
   "outputs": [],
   "source": [
    "# Called with just the imdb_id\n",
    "big_night = imdb_import_movie(mid='tt0115678')\n",
    "\n",
    "# Show the cast \n",
    "big_night['cast']"
   ]
  },
  {
   "cell_type": "markdown",
   "metadata": {},
   "source": [
    "## Merging SQL Data with API Data"
   ]
  },
  {
   "cell_type": "markdown",
   "metadata": {},
   "source": [
    "__For our last demonstration we will use the [Pandas `merge()` function](https://pandas.pydata.org/pandas-docs/stable/merging.html#database-style-dataframe-joining-merging) to glue together data from multiple sources.__"
   ]
  },
  {
   "cell_type": "markdown",
   "metadata": {},
   "source": [
    "**7. This is an example of an adaptor for using our `myimdbapiutil` API module.** We might consider moving it into `myimdbapiutil.py`, but is included here as a demo."
   ]
  },
  {
   "cell_type": "code",
   "execution_count": null,
   "metadata": {
    "collapsed": true
   },
   "outputs": [],
   "source": [
    "def find_movie(mtitle, opt='movie'):\n",
    "    movie = imdb_import_movie(mtitle=mtitle)\n",
    "    return movie[opt]"
   ]
  },
  {
   "cell_type": "markdown",
   "metadata": {},
   "source": [
    "**8. A little Pandas ninja magic.** This calls the ulility module to get a fresh copy of the IMDB data. While the service is pretty unreliable, we can always go back to our file backup if needed. (See the comments below.)"
   ]
  },
  {
   "cell_type": "code",
   "execution_count": null,
   "metadata": {},
   "outputs": [],
   "source": [
    "# The following may fail if the service is down; if so then go to the next cell.\n",
    "# Like the adaptor code above this could \n",
    "m=movies['TITLE'].apply(find_movie).tolist()\n",
    "\n",
    "# After running this cell be patient; you should _eventually_ get a\n",
    "# list of all 23 movies OR an error.\n",
    "\n",
    "imdb_movies = pd.concat(m)\n",
    "imdb_movies.set_index('imdb_id',inplace=True)\n",
    "imdb_movies.to_csv(\"imdb_movies.csv\") # update the csv file with the latest copy"
   ]
  },
  {
   "cell_type": "code",
   "execution_count": null,
   "metadata": {},
   "outputs": [],
   "source": [
    "# uncomment below if the IMDB lookup fails\n",
    "imdb_movies = pd.read_csv(\"imdb_movies.csv\", index_col=0)\n",
    "imdb_movies"
   ]
  },
  {
   "cell_type": "markdown",
   "metadata": {},
   "source": [
    "**9. Prep to allow the join/merge.** We need to set up a common key for the two DataFrames. "
   ]
  },
  {
   "cell_type": "code",
   "execution_count": null,
   "metadata": {},
   "outputs": [],
   "source": [
    "# Add the mid to the imdb_movies DataFrame\n",
    "imdb_movies['mid']=movies.index\n",
    "imdb_movies"
   ]
  },
  {
   "cell_type": "markdown",
   "metadata": {},
   "source": [
    "**10. Now for the merge.** You should probably [read the docs](https://pandas.pydata.org/pandas-docs/stable/merging.html#database-style-dataframe-joining-merging) for this one. "
   ]
  },
  {
   "cell_type": "code",
   "execution_count": null,
   "metadata": {},
   "outputs": [],
   "source": [
    "movies_merged = pd.merge(movies,imdb_movies,left_index=True,right_on='mid')\n",
    "movies_merged"
   ]
  },
  {
   "cell_type": "markdown",
   "metadata": {},
   "source": [
    "**That's all for now. Hopefully this gives you plenty of ideas for your class projects.**"
   ]
  }
 ],
 "metadata": {
  "kernelspec": {
   "display_name": "Python 3",
   "language": "python",
   "name": "python3"
  },
  "language_info": {
   "codemirror_mode": {
    "name": "ipython",
    "version": 3
   },
   "file_extension": ".py",
   "mimetype": "text/x-python",
   "name": "python",
   "nbconvert_exporter": "python",
   "pygments_lexer": "ipython3",
   "version": "3.6.7"
  }
 },
 "nbformat": 4,
 "nbformat_minor": 2
}
